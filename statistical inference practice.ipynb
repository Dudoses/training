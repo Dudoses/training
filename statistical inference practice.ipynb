{
 "cells": [
  {
   "cell_type": "code",
   "execution_count": null,
   "metadata": {},
   "outputs": [],
   "source": [
    "'''\n",
    "Имеются данные за два года по аренде велосипедов: с 4 января 2015 по 3 января 2017. \n",
    "Изучим динамику числа аренд, наличие связи с погодными условиями и выходными, \n",
    "а также объясним несколько аномалий на графике.\n",
    "\n",
    "Описание данных:\n",
    "timestamp – дата и время (точность до часа)\n",
    "cnt – количество аренд велосипедов за этот час\n",
    "t1 – температура, в С\n",
    "t2 – температура \"ощущается как\", в С \n",
    "hum – влажность (%)\n",
    "wind_speed – скорость ветра, км/ч\n",
    "weather_code – погодные условия:\n",
    "1 – ясно (SKC)\n",
    "2 – преимущественно ясно / встречаются отдельные облака (SCT)\n",
    "3 – облачно / значительные облака (BKN)\n",
    "4 – пасмурно (OVC)\n",
    "7 – небольшой дождь Rain/ light Rain shower/ Light rain \n",
    "10 – дождь с грозой\n",
    "26 – снегопад \n",
    "94 – ледяной туман (да, такое бывает!)\n",
    "isholiday – является ли день праздником (1 – праздник, 0 – нет)\n",
    "isweekend –  является ли день выходным (1 – выходной, 0 – нет)\n",
    "season – метеорологический сезон (0 – весна, 1 – лето, 2 – осень, 3 – зима)\n",
    "'''"
   ]
  }
 ],
 "metadata": {
  "kernelspec": {
   "display_name": "Python 3",
   "language": "python",
   "name": "python3"
  },
  "language_info": {
   "codemirror_mode": {
    "name": "ipython",
    "version": 3
   },
   "file_extension": ".py",
   "mimetype": "text/x-python",
   "name": "python",
   "nbconvert_exporter": "python",
   "pygments_lexer": "ipython3",
   "version": "3.7.3"
  }
 },
 "nbformat": 4,
 "nbformat_minor": 4
}
